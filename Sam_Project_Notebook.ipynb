{
 "cells": [
  {
   "cell_type": "markdown",
   "metadata": {},
   "source": [
    "Happiness Analysis Project"
   ]
  },
  {
   "cell_type": "code",
   "execution_count": 19,
   "metadata": {},
   "outputs": [],
   "source": [
    "import pandas as pd\n",
    "import seaborn as sns"
   ]
  },
  {
   "cell_type": "code",
   "execution_count": 28,
   "metadata": {},
   "outputs": [],
   "source": [
    "df_2015 = pd.read_csv(\"2015.csv\", index_col=\"Country\")\n",
    "df_2016 = pd.read_csv(\"2016.csv\", index_col=\"Country\")\n",
    "df_2017 = pd.read_csv(\"2017.csv\", index_col=\"Country\")"
   ]
  },
  {
   "cell_type": "code",
   "execution_count": 29,
   "metadata": {},
   "outputs": [
    {
     "data": {
      "text/html": [
       "<div>\n",
       "<style scoped>\n",
       "    .dataframe tbody tr th:only-of-type {\n",
       "        vertical-align: middle;\n",
       "    }\n",
       "\n",
       "    .dataframe tbody tr th {\n",
       "        vertical-align: top;\n",
       "    }\n",
       "\n",
       "    .dataframe thead th {\n",
       "        text-align: right;\n",
       "    }\n",
       "</style>\n",
       "<table border=\"1\" class=\"dataframe\">\n",
       "  <thead>\n",
       "    <tr style=\"text-align: right;\">\n",
       "      <th></th>\n",
       "      <th>Region</th>\n",
       "      <th>Happiness Rank</th>\n",
       "      <th>Happiness Score</th>\n",
       "      <th>Standard Error</th>\n",
       "      <th>Economy (GDP per Capita)</th>\n",
       "      <th>Family</th>\n",
       "      <th>Health (Life Expectancy)</th>\n",
       "      <th>Freedom</th>\n",
       "      <th>Trust (Government Corruption)</th>\n",
       "      <th>Generosity</th>\n",
       "      <th>Dystopia Residual</th>\n",
       "    </tr>\n",
       "    <tr>\n",
       "      <th>Country</th>\n",
       "      <th></th>\n",
       "      <th></th>\n",
       "      <th></th>\n",
       "      <th></th>\n",
       "      <th></th>\n",
       "      <th></th>\n",
       "      <th></th>\n",
       "      <th></th>\n",
       "      <th></th>\n",
       "      <th></th>\n",
       "      <th></th>\n",
       "    </tr>\n",
       "  </thead>\n",
       "  <tbody>\n",
       "    <tr>\n",
       "      <th>Switzerland</th>\n",
       "      <td>Western Europe</td>\n",
       "      <td>1</td>\n",
       "      <td>7.587</td>\n",
       "      <td>0.03411</td>\n",
       "      <td>1.39651</td>\n",
       "      <td>1.34951</td>\n",
       "      <td>0.94143</td>\n",
       "      <td>0.66557</td>\n",
       "      <td>0.41978</td>\n",
       "      <td>0.29678</td>\n",
       "      <td>2.51738</td>\n",
       "    </tr>\n",
       "    <tr>\n",
       "      <th>Iceland</th>\n",
       "      <td>Western Europe</td>\n",
       "      <td>2</td>\n",
       "      <td>7.561</td>\n",
       "      <td>0.04884</td>\n",
       "      <td>1.30232</td>\n",
       "      <td>1.40223</td>\n",
       "      <td>0.94784</td>\n",
       "      <td>0.62877</td>\n",
       "      <td>0.14145</td>\n",
       "      <td>0.43630</td>\n",
       "      <td>2.70201</td>\n",
       "    </tr>\n",
       "    <tr>\n",
       "      <th>Denmark</th>\n",
       "      <td>Western Europe</td>\n",
       "      <td>3</td>\n",
       "      <td>7.527</td>\n",
       "      <td>0.03328</td>\n",
       "      <td>1.32548</td>\n",
       "      <td>1.36058</td>\n",
       "      <td>0.87464</td>\n",
       "      <td>0.64938</td>\n",
       "      <td>0.48357</td>\n",
       "      <td>0.34139</td>\n",
       "      <td>2.49204</td>\n",
       "    </tr>\n",
       "    <tr>\n",
       "      <th>Norway</th>\n",
       "      <td>Western Europe</td>\n",
       "      <td>4</td>\n",
       "      <td>7.522</td>\n",
       "      <td>0.03880</td>\n",
       "      <td>1.45900</td>\n",
       "      <td>1.33095</td>\n",
       "      <td>0.88521</td>\n",
       "      <td>0.66973</td>\n",
       "      <td>0.36503</td>\n",
       "      <td>0.34699</td>\n",
       "      <td>2.46531</td>\n",
       "    </tr>\n",
       "    <tr>\n",
       "      <th>Canada</th>\n",
       "      <td>North America</td>\n",
       "      <td>5</td>\n",
       "      <td>7.427</td>\n",
       "      <td>0.03553</td>\n",
       "      <td>1.32629</td>\n",
       "      <td>1.32261</td>\n",
       "      <td>0.90563</td>\n",
       "      <td>0.63297</td>\n",
       "      <td>0.32957</td>\n",
       "      <td>0.45811</td>\n",
       "      <td>2.45176</td>\n",
       "    </tr>\n",
       "  </tbody>\n",
       "</table>\n",
       "</div>"
      ],
      "text/plain": [
       "                     Region  Happiness Rank  Happiness Score  Standard Error  \\\n",
       "Country                                                                        \n",
       "Switzerland  Western Europe               1            7.587         0.03411   \n",
       "Iceland      Western Europe               2            7.561         0.04884   \n",
       "Denmark      Western Europe               3            7.527         0.03328   \n",
       "Norway       Western Europe               4            7.522         0.03880   \n",
       "Canada        North America               5            7.427         0.03553   \n",
       "\n",
       "             Economy (GDP per Capita)   Family  Health (Life Expectancy)  \\\n",
       "Country                                                                    \n",
       "Switzerland                   1.39651  1.34951                   0.94143   \n",
       "Iceland                       1.30232  1.40223                   0.94784   \n",
       "Denmark                       1.32548  1.36058                   0.87464   \n",
       "Norway                        1.45900  1.33095                   0.88521   \n",
       "Canada                        1.32629  1.32261                   0.90563   \n",
       "\n",
       "             Freedom  Trust (Government Corruption)  Generosity  \\\n",
       "Country                                                           \n",
       "Switzerland  0.66557                        0.41978     0.29678   \n",
       "Iceland      0.62877                        0.14145     0.43630   \n",
       "Denmark      0.64938                        0.48357     0.34139   \n",
       "Norway       0.66973                        0.36503     0.34699   \n",
       "Canada       0.63297                        0.32957     0.45811   \n",
       "\n",
       "             Dystopia Residual  \n",
       "Country                         \n",
       "Switzerland            2.51738  \n",
       "Iceland                2.70201  \n",
       "Denmark                2.49204  \n",
       "Norway                 2.46531  \n",
       "Canada                 2.45176  "
      ]
     },
     "execution_count": 29,
     "metadata": {},
     "output_type": "execute_result"
    }
   ],
   "source": [
    "# Economy, Family, Health, Freedom, Trust, Generosity, Dystopia add up to happiness score\n",
    "# Dystopia score: imaginary country that has the least happy people\n",
    "df_2015.head()"
   ]
  },
  {
   "cell_type": "code",
   "execution_count": 30,
   "metadata": {},
   "outputs": [
    {
     "data": {
      "text/html": [
       "<div>\n",
       "<style scoped>\n",
       "    .dataframe tbody tr th:only-of-type {\n",
       "        vertical-align: middle;\n",
       "    }\n",
       "\n",
       "    .dataframe tbody tr th {\n",
       "        vertical-align: top;\n",
       "    }\n",
       "\n",
       "    .dataframe thead th {\n",
       "        text-align: right;\n",
       "    }\n",
       "</style>\n",
       "<table border=\"1\" class=\"dataframe\">\n",
       "  <thead>\n",
       "    <tr style=\"text-align: right;\">\n",
       "      <th></th>\n",
       "      <th>Region</th>\n",
       "      <th>Happiness Rank</th>\n",
       "      <th>Happiness Score</th>\n",
       "      <th>Lower Confidence Interval</th>\n",
       "      <th>Upper Confidence Interval</th>\n",
       "      <th>Economy (GDP per Capita)</th>\n",
       "      <th>Family</th>\n",
       "      <th>Health (Life Expectancy)</th>\n",
       "      <th>Freedom</th>\n",
       "      <th>Trust (Government Corruption)</th>\n",
       "      <th>Generosity</th>\n",
       "      <th>Dystopia Residual</th>\n",
       "    </tr>\n",
       "    <tr>\n",
       "      <th>Country</th>\n",
       "      <th></th>\n",
       "      <th></th>\n",
       "      <th></th>\n",
       "      <th></th>\n",
       "      <th></th>\n",
       "      <th></th>\n",
       "      <th></th>\n",
       "      <th></th>\n",
       "      <th></th>\n",
       "      <th></th>\n",
       "      <th></th>\n",
       "      <th></th>\n",
       "    </tr>\n",
       "  </thead>\n",
       "  <tbody>\n",
       "    <tr>\n",
       "      <th>Denmark</th>\n",
       "      <td>Western Europe</td>\n",
       "      <td>1</td>\n",
       "      <td>7.526</td>\n",
       "      <td>7.460</td>\n",
       "      <td>7.592</td>\n",
       "      <td>1.44178</td>\n",
       "      <td>1.16374</td>\n",
       "      <td>0.79504</td>\n",
       "      <td>0.57941</td>\n",
       "      <td>0.44453</td>\n",
       "      <td>0.36171</td>\n",
       "      <td>2.73939</td>\n",
       "    </tr>\n",
       "    <tr>\n",
       "      <th>Switzerland</th>\n",
       "      <td>Western Europe</td>\n",
       "      <td>2</td>\n",
       "      <td>7.509</td>\n",
       "      <td>7.428</td>\n",
       "      <td>7.590</td>\n",
       "      <td>1.52733</td>\n",
       "      <td>1.14524</td>\n",
       "      <td>0.86303</td>\n",
       "      <td>0.58557</td>\n",
       "      <td>0.41203</td>\n",
       "      <td>0.28083</td>\n",
       "      <td>2.69463</td>\n",
       "    </tr>\n",
       "    <tr>\n",
       "      <th>Iceland</th>\n",
       "      <td>Western Europe</td>\n",
       "      <td>3</td>\n",
       "      <td>7.501</td>\n",
       "      <td>7.333</td>\n",
       "      <td>7.669</td>\n",
       "      <td>1.42666</td>\n",
       "      <td>1.18326</td>\n",
       "      <td>0.86733</td>\n",
       "      <td>0.56624</td>\n",
       "      <td>0.14975</td>\n",
       "      <td>0.47678</td>\n",
       "      <td>2.83137</td>\n",
       "    </tr>\n",
       "    <tr>\n",
       "      <th>Norway</th>\n",
       "      <td>Western Europe</td>\n",
       "      <td>4</td>\n",
       "      <td>7.498</td>\n",
       "      <td>7.421</td>\n",
       "      <td>7.575</td>\n",
       "      <td>1.57744</td>\n",
       "      <td>1.12690</td>\n",
       "      <td>0.79579</td>\n",
       "      <td>0.59609</td>\n",
       "      <td>0.35776</td>\n",
       "      <td>0.37895</td>\n",
       "      <td>2.66465</td>\n",
       "    </tr>\n",
       "    <tr>\n",
       "      <th>Finland</th>\n",
       "      <td>Western Europe</td>\n",
       "      <td>5</td>\n",
       "      <td>7.413</td>\n",
       "      <td>7.351</td>\n",
       "      <td>7.475</td>\n",
       "      <td>1.40598</td>\n",
       "      <td>1.13464</td>\n",
       "      <td>0.81091</td>\n",
       "      <td>0.57104</td>\n",
       "      <td>0.41004</td>\n",
       "      <td>0.25492</td>\n",
       "      <td>2.82596</td>\n",
       "    </tr>\n",
       "  </tbody>\n",
       "</table>\n",
       "</div>"
      ],
      "text/plain": [
       "                     Region  Happiness Rank  Happiness Score  \\\n",
       "Country                                                        \n",
       "Denmark      Western Europe               1            7.526   \n",
       "Switzerland  Western Europe               2            7.509   \n",
       "Iceland      Western Europe               3            7.501   \n",
       "Norway       Western Europe               4            7.498   \n",
       "Finland      Western Europe               5            7.413   \n",
       "\n",
       "             Lower Confidence Interval  Upper Confidence Interval  \\\n",
       "Country                                                             \n",
       "Denmark                          7.460                      7.592   \n",
       "Switzerland                      7.428                      7.590   \n",
       "Iceland                          7.333                      7.669   \n",
       "Norway                           7.421                      7.575   \n",
       "Finland                          7.351                      7.475   \n",
       "\n",
       "             Economy (GDP per Capita)   Family  Health (Life Expectancy)  \\\n",
       "Country                                                                    \n",
       "Denmark                       1.44178  1.16374                   0.79504   \n",
       "Switzerland                   1.52733  1.14524                   0.86303   \n",
       "Iceland                       1.42666  1.18326                   0.86733   \n",
       "Norway                        1.57744  1.12690                   0.79579   \n",
       "Finland                       1.40598  1.13464                   0.81091   \n",
       "\n",
       "             Freedom  Trust (Government Corruption)  Generosity  \\\n",
       "Country                                                           \n",
       "Denmark      0.57941                        0.44453     0.36171   \n",
       "Switzerland  0.58557                        0.41203     0.28083   \n",
       "Iceland      0.56624                        0.14975     0.47678   \n",
       "Norway       0.59609                        0.35776     0.37895   \n",
       "Finland      0.57104                        0.41004     0.25492   \n",
       "\n",
       "             Dystopia Residual  \n",
       "Country                         \n",
       "Denmark                2.73939  \n",
       "Switzerland            2.69463  \n",
       "Iceland                2.83137  \n",
       "Norway                 2.66465  \n",
       "Finland                2.82596  "
      ]
     },
     "execution_count": 30,
     "metadata": {},
     "output_type": "execute_result"
    }
   ],
   "source": [
    "df_2016.head()"
   ]
  },
  {
   "cell_type": "code",
   "execution_count": 31,
   "metadata": {},
   "outputs": [
    {
     "data": {
      "text/html": [
       "<div>\n",
       "<style scoped>\n",
       "    .dataframe tbody tr th:only-of-type {\n",
       "        vertical-align: middle;\n",
       "    }\n",
       "\n",
       "    .dataframe tbody tr th {\n",
       "        vertical-align: top;\n",
       "    }\n",
       "\n",
       "    .dataframe thead th {\n",
       "        text-align: right;\n",
       "    }\n",
       "</style>\n",
       "<table border=\"1\" class=\"dataframe\">\n",
       "  <thead>\n",
       "    <tr style=\"text-align: right;\">\n",
       "      <th></th>\n",
       "      <th>Happiness.Rank</th>\n",
       "      <th>Happiness.Score</th>\n",
       "      <th>Whisker.high</th>\n",
       "      <th>Whisker.low</th>\n",
       "      <th>Economy..GDP.per.Capita.</th>\n",
       "      <th>Family</th>\n",
       "      <th>Health..Life.Expectancy.</th>\n",
       "      <th>Freedom</th>\n",
       "      <th>Generosity</th>\n",
       "      <th>Trust..Government.Corruption.</th>\n",
       "      <th>Dystopia.Residual</th>\n",
       "    </tr>\n",
       "    <tr>\n",
       "      <th>Country</th>\n",
       "      <th></th>\n",
       "      <th></th>\n",
       "      <th></th>\n",
       "      <th></th>\n",
       "      <th></th>\n",
       "      <th></th>\n",
       "      <th></th>\n",
       "      <th></th>\n",
       "      <th></th>\n",
       "      <th></th>\n",
       "      <th></th>\n",
       "    </tr>\n",
       "  </thead>\n",
       "  <tbody>\n",
       "    <tr>\n",
       "      <th>Norway</th>\n",
       "      <td>1</td>\n",
       "      <td>7.537</td>\n",
       "      <td>7.594445</td>\n",
       "      <td>7.479556</td>\n",
       "      <td>1.616463</td>\n",
       "      <td>1.533524</td>\n",
       "      <td>0.796667</td>\n",
       "      <td>0.635423</td>\n",
       "      <td>0.362012</td>\n",
       "      <td>0.315964</td>\n",
       "      <td>2.277027</td>\n",
       "    </tr>\n",
       "    <tr>\n",
       "      <th>Denmark</th>\n",
       "      <td>2</td>\n",
       "      <td>7.522</td>\n",
       "      <td>7.581728</td>\n",
       "      <td>7.462272</td>\n",
       "      <td>1.482383</td>\n",
       "      <td>1.551122</td>\n",
       "      <td>0.792566</td>\n",
       "      <td>0.626007</td>\n",
       "      <td>0.355280</td>\n",
       "      <td>0.400770</td>\n",
       "      <td>2.313707</td>\n",
       "    </tr>\n",
       "    <tr>\n",
       "      <th>Iceland</th>\n",
       "      <td>3</td>\n",
       "      <td>7.504</td>\n",
       "      <td>7.622030</td>\n",
       "      <td>7.385970</td>\n",
       "      <td>1.480633</td>\n",
       "      <td>1.610574</td>\n",
       "      <td>0.833552</td>\n",
       "      <td>0.627163</td>\n",
       "      <td>0.475540</td>\n",
       "      <td>0.153527</td>\n",
       "      <td>2.322715</td>\n",
       "    </tr>\n",
       "    <tr>\n",
       "      <th>Switzerland</th>\n",
       "      <td>4</td>\n",
       "      <td>7.494</td>\n",
       "      <td>7.561772</td>\n",
       "      <td>7.426227</td>\n",
       "      <td>1.564980</td>\n",
       "      <td>1.516912</td>\n",
       "      <td>0.858131</td>\n",
       "      <td>0.620071</td>\n",
       "      <td>0.290549</td>\n",
       "      <td>0.367007</td>\n",
       "      <td>2.276716</td>\n",
       "    </tr>\n",
       "    <tr>\n",
       "      <th>Finland</th>\n",
       "      <td>5</td>\n",
       "      <td>7.469</td>\n",
       "      <td>7.527542</td>\n",
       "      <td>7.410458</td>\n",
       "      <td>1.443572</td>\n",
       "      <td>1.540247</td>\n",
       "      <td>0.809158</td>\n",
       "      <td>0.617951</td>\n",
       "      <td>0.245483</td>\n",
       "      <td>0.382612</td>\n",
       "      <td>2.430182</td>\n",
       "    </tr>\n",
       "  </tbody>\n",
       "</table>\n",
       "</div>"
      ],
      "text/plain": [
       "             Happiness.Rank  Happiness.Score  Whisker.high  Whisker.low  \\\n",
       "Country                                                                   \n",
       "Norway                    1            7.537      7.594445     7.479556   \n",
       "Denmark                   2            7.522      7.581728     7.462272   \n",
       "Iceland                   3            7.504      7.622030     7.385970   \n",
       "Switzerland               4            7.494      7.561772     7.426227   \n",
       "Finland                   5            7.469      7.527542     7.410458   \n",
       "\n",
       "             Economy..GDP.per.Capita.    Family  Health..Life.Expectancy.  \\\n",
       "Country                                                                     \n",
       "Norway                       1.616463  1.533524                  0.796667   \n",
       "Denmark                      1.482383  1.551122                  0.792566   \n",
       "Iceland                      1.480633  1.610574                  0.833552   \n",
       "Switzerland                  1.564980  1.516912                  0.858131   \n",
       "Finland                      1.443572  1.540247                  0.809158   \n",
       "\n",
       "              Freedom  Generosity  Trust..Government.Corruption.  \\\n",
       "Country                                                            \n",
       "Norway       0.635423    0.362012                       0.315964   \n",
       "Denmark      0.626007    0.355280                       0.400770   \n",
       "Iceland      0.627163    0.475540                       0.153527   \n",
       "Switzerland  0.620071    0.290549                       0.367007   \n",
       "Finland      0.617951    0.245483                       0.382612   \n",
       "\n",
       "             Dystopia.Residual  \n",
       "Country                         \n",
       "Norway                2.277027  \n",
       "Denmark               2.313707  \n",
       "Iceland               2.322715  \n",
       "Switzerland           2.276716  \n",
       "Finland               2.430182  "
      ]
     },
     "execution_count": 31,
     "metadata": {},
     "output_type": "execute_result"
    }
   ],
   "source": [
    "df_2017.head()"
   ]
  },
  {
   "cell_type": "code",
   "execution_count": 47,
   "metadata": {},
   "outputs": [
    {
     "name": "stdout",
     "output_type": "stream",
     "text": [
      "<class 'pandas.core.frame.DataFrame'>\n",
      "Index: 158 entries, Switzerland to Togo\n",
      "Data columns (total 10 columns):\n",
      "Region                           158 non-null object\n",
      "Happiness Rank                   158 non-null int64\n",
      "Happiness Score                  158 non-null float64\n",
      "Economy (GDP per Capita)         158 non-null float64\n",
      "Family                           158 non-null float64\n",
      "Health (Life Expectancy)         158 non-null float64\n",
      "Freedom                          158 non-null float64\n",
      "Trust (Government Corruption)    158 non-null float64\n",
      "Generosity                       158 non-null float64\n",
      "Dystopia Residual                158 non-null float64\n",
      "dtypes: float64(8), int64(1), object(1)\n",
      "memory usage: 18.6+ KB\n"
     ]
    }
   ],
   "source": [
    "df_2015.info()"
   ]
  },
  {
   "cell_type": "code",
   "execution_count": 41,
   "metadata": {},
   "outputs": [],
   "source": [
    "df_2015.drop([\"Standard Error\"], inplace=True, axis=1)"
   ]
  },
  {
   "cell_type": "code",
   "execution_count": 48,
   "metadata": {},
   "outputs": [
    {
     "name": "stdout",
     "output_type": "stream",
     "text": [
      "<class 'pandas.core.frame.DataFrame'>\n",
      "Index: 157 entries, Denmark to Burundi\n",
      "Data columns (total 10 columns):\n",
      "Region                           157 non-null object\n",
      "Happiness Rank                   157 non-null int64\n",
      "Happiness Score                  157 non-null float64\n",
      "Economy (GDP per Capita)         157 non-null float64\n",
      "Family                           157 non-null float64\n",
      "Health (Life Expectancy)         157 non-null float64\n",
      "Freedom                          157 non-null float64\n",
      "Trust (Government Corruption)    157 non-null float64\n",
      "Generosity                       157 non-null float64\n",
      "Dystopia Residual                157 non-null float64\n",
      "dtypes: float64(8), int64(1), object(1)\n",
      "memory usage: 13.5+ KB\n"
     ]
    }
   ],
   "source": [
    "df_2016.info()"
   ]
  },
  {
   "cell_type": "code",
   "execution_count": 51,
   "metadata": {},
   "outputs": [
    {
     "data": {
      "text/plain": [
       "Index(['Region', 'Happiness Rank', 'Happiness Score',\n",
       "       'Economy (GDP per Capita)', 'Family', 'Health (Life Expectancy)',\n",
       "       'Freedom', 'Trust (Government Corruption)', 'Generosity',\n",
       "       'Dystopia Residual'],\n",
       "      dtype='object')"
      ]
     },
     "execution_count": 51,
     "metadata": {},
     "output_type": "execute_result"
    }
   ],
   "source": [
    "df_2016.columns"
   ]
  },
  {
   "cell_type": "code",
   "execution_count": 44,
   "metadata": {},
   "outputs": [],
   "source": [
    "df_2016.drop([\"Lower Confidence Interval\", \"Upper Confidence Interval\"], inplace=True, axis=1)"
   ]
  },
  {
   "cell_type": "code",
   "execution_count": 49,
   "metadata": {},
   "outputs": [
    {
     "name": "stdout",
     "output_type": "stream",
     "text": [
      "<class 'pandas.core.frame.DataFrame'>\n",
      "Index: 155 entries, Norway to Central African Republic\n",
      "Data columns (total 9 columns):\n",
      "Happiness.Rank                   155 non-null int64\n",
      "Happiness.Score                  155 non-null float64\n",
      "Economy..GDP.per.Capita.         155 non-null float64\n",
      "Family                           155 non-null float64\n",
      "Health..Life.Expectancy.         155 non-null float64\n",
      "Freedom                          155 non-null float64\n",
      "Generosity                       155 non-null float64\n",
      "Trust..Government.Corruption.    155 non-null float64\n",
      "Dystopia.Residual                155 non-null float64\n",
      "dtypes: float64(8), int64(1)\n",
      "memory usage: 17.1+ KB\n"
     ]
    }
   ],
   "source": [
    "# 2017 does not have region\n",
    "df_2017.info()"
   ]
  },
  {
   "cell_type": "code",
   "execution_count": 54,
   "metadata": {},
   "outputs": [],
   "source": [
    "# df_2017[\"Region\"] = "
   ]
  },
  {
   "cell_type": "code",
   "execution_count": 74,
   "metadata": {},
   "outputs": [],
   "source": [
    "# df_2017.columns = ['Region', 'Happiness Rank', 'Happiness Score',\n",
    "#        'Economy (GDP per Capita)', 'Family', 'Health (Life Expectancy)',\n",
    "#        'Freedom', 'Generosity', 'Trust (Government Corruption)',\n",
    "#        'Dystopia Residual']"
   ]
  },
  {
   "cell_type": "code",
   "execution_count": 46,
   "metadata": {},
   "outputs": [],
   "source": [
    "df_2017.drop([\"Whisker.high\", \"Whisker.low\"], axis=1, inplace=True)"
   ]
  },
  {
   "cell_type": "code",
   "execution_count": 35,
   "metadata": {},
   "outputs": [
    {
     "data": {
      "text/plain": [
       "<matplotlib.axes._subplots.AxesSubplot at 0x1a1b5cbd30>"
      ]
     },
     "execution_count": 35,
     "metadata": {},
     "output_type": "execute_result"
    },
    {
     "data": {
      "image/png": "[encoded data removed]",
      "text/plain": [
       "<matplotlib.figure.Figure at 0x1a1b602978>"
      ]
     },
     "metadata": {},
     "output_type": "display_data"
    }
   ],
   "source": [
    "sns.heatmap(df_2015.corr())"
   ]
  },
  {
   "cell_type": "code",
   "execution_count": 36,
   "metadata": {},
   "outputs": [
    {
     "data": {
      "text/plain": [
       "<matplotlib.axes._subplots.AxesSubplot at 0x1a1b872d30>"
      ]
     },
     "execution_count": 36,
     "metadata": {},
     "output_type": "execute_result"
    },
    {
     "data": {
      "image/png": "[encoded data removed]",
      "text/plain": [
       "<matplotlib.figure.Figure at 0x1a1b80d940>"
      ]
     },
     "metadata": {},
     "output_type": "display_data"
    }
   ],
   "source": [
    "sns.heatmap(df_2016.corr())"
   ]
  },
  {
   "cell_type": "code",
   "execution_count": 37,
   "metadata": {},
   "outputs": [
    {
     "data": {
      "text/plain": [
       "<matplotlib.axes._subplots.AxesSubplot at 0x1a1b7e1518>"
      ]
     },
     "execution_count": 37,
     "metadata": {},
     "output_type": "execute_result"
    },
    {
     "data": {
      "image/png": "[encoded data removed]",
      "text/plain": [
       "<matplotlib.figure.Figure at 0x1a1b645160>"
      ]
     },
     "metadata": {},
     "output_type": "display_data"
    }
   ],
   "source": [
    "sns.heatmap(df_2017.corr())"
   ]
  },
  {
   "cell_type": "code",
   "execution_count": 56,
   "metadata": {},
   "outputs": [],
   "source": [
    "whr = [df_2015, df_2016, df_2017]\n",
    "\n",
    "year = 14\n",
    "\n",
    "for data in whr:\n",
    "    year += 1\n",
    "    for key in data.keys():\n",
    "        data.rename({key:str(year)+key}, axis='columns', inplace=True)"
   ]
  },
  {
   "cell_type": "code",
   "execution_count": 62,
   "metadata": {},
   "outputs": [],
   "source": [
    "whrt = pd.concat(whr, axis=1)"
   ]
  },
  {
   "cell_type": "code",
   "execution_count": 76,
   "metadata": {},
   "outputs": [
    {
     "data": {
      "text/html": [
       "<div>\n",
       "<style scoped>\n",
       "    .dataframe tbody tr th:only-of-type {\n",
       "        vertical-align: middle;\n",
       "    }\n",
       "\n",
       "    .dataframe tbody tr th {\n",
       "        vertical-align: top;\n",
       "    }\n",
       "\n",
       "    .dataframe thead th {\n",
       "        text-align: right;\n",
       "    }\n",
       "</style>\n",
       "<table border=\"1\" class=\"dataframe\">\n",
       "  <thead>\n",
       "    <tr style=\"text-align: right;\">\n",
       "      <th></th>\n",
       "      <th>15Happiness Rank</th>\n",
       "      <th>15Happiness Score</th>\n",
       "      <th>15Economy (GDP per Capita)</th>\n",
       "      <th>15Family</th>\n",
       "      <th>15Health (Life Expectancy)</th>\n",
       "      <th>15Freedom</th>\n",
       "      <th>15Trust (Government Corruption)</th>\n",
       "      <th>15Generosity</th>\n",
       "      <th>15Dystopia Residual</th>\n",
       "      <th>16Happiness Rank</th>\n",
       "      <th>...</th>\n",
       "      <th>16Dystopia Residual</th>\n",
       "      <th>17Happiness Rank</th>\n",
       "      <th>17Happiness Score</th>\n",
       "      <th>17Economy (GDP per Capita)</th>\n",
       "      <th>17Family</th>\n",
       "      <th>17Health (Life Expectancy)</th>\n",
       "      <th>17Freedom</th>\n",
       "      <th>17Generosity</th>\n",
       "      <th>17Trust (Government Corruption)</th>\n",
       "      <th>17Dystopia Residual</th>\n",
       "    </tr>\n",
       "  </thead>\n",
       "  <tbody>\n",
       "    <tr>\n",
       "      <th>Afghanistan</th>\n",
       "      <td>153.0</td>\n",
       "      <td>3.575</td>\n",
       "      <td>0.31982</td>\n",
       "      <td>0.30285</td>\n",
       "      <td>0.30335</td>\n",
       "      <td>0.23414</td>\n",
       "      <td>0.09719</td>\n",
       "      <td>0.36510</td>\n",
       "      <td>1.95210</td>\n",
       "      <td>154.0</td>\n",
       "      <td>...</td>\n",
       "      <td>2.14558</td>\n",
       "      <td>141.0</td>\n",
       "      <td>3.794</td>\n",
       "      <td>0.401477</td>\n",
       "      <td>0.581543</td>\n",
       "      <td>0.180747</td>\n",
       "      <td>0.106180</td>\n",
       "      <td>0.311871</td>\n",
       "      <td>0.061158</td>\n",
       "      <td>2.150801</td>\n",
       "    </tr>\n",
       "    <tr>\n",
       "      <th>Albania</th>\n",
       "      <td>95.0</td>\n",
       "      <td>4.959</td>\n",
       "      <td>0.87867</td>\n",
       "      <td>0.80434</td>\n",
       "      <td>0.81325</td>\n",
       "      <td>0.35733</td>\n",
       "      <td>0.06413</td>\n",
       "      <td>0.14272</td>\n",
       "      <td>1.89894</td>\n",
       "      <td>109.0</td>\n",
       "      <td>...</td>\n",
       "      <td>1.92816</td>\n",
       "      <td>109.0</td>\n",
       "      <td>4.644</td>\n",
       "      <td>0.996193</td>\n",
       "      <td>0.803685</td>\n",
       "      <td>0.731160</td>\n",
       "      <td>0.381499</td>\n",
       "      <td>0.201313</td>\n",
       "      <td>0.039864</td>\n",
       "      <td>1.490442</td>\n",
       "    </tr>\n",
       "    <tr>\n",
       "      <th>Algeria</th>\n",
       "      <td>68.0</td>\n",
       "      <td>5.605</td>\n",
       "      <td>0.93929</td>\n",
       "      <td>1.07772</td>\n",
       "      <td>0.61766</td>\n",
       "      <td>0.28579</td>\n",
       "      <td>0.17383</td>\n",
       "      <td>0.07822</td>\n",
       "      <td>2.43209</td>\n",
       "      <td>38.0</td>\n",
       "      <td>...</td>\n",
       "      <td>3.40904</td>\n",
       "      <td>53.0</td>\n",
       "      <td>5.872</td>\n",
       "      <td>1.091864</td>\n",
       "      <td>1.146217</td>\n",
       "      <td>0.617585</td>\n",
       "      <td>0.233336</td>\n",
       "      <td>0.069437</td>\n",
       "      <td>0.146096</td>\n",
       "      <td>2.567604</td>\n",
       "    </tr>\n",
       "    <tr>\n",
       "      <th>Angola</th>\n",
       "      <td>137.0</td>\n",
       "      <td>4.033</td>\n",
       "      <td>0.75778</td>\n",
       "      <td>0.86040</td>\n",
       "      <td>0.16683</td>\n",
       "      <td>0.10384</td>\n",
       "      <td>0.07122</td>\n",
       "      <td>0.12344</td>\n",
       "      <td>1.94939</td>\n",
       "      <td>141.0</td>\n",
       "      <td>...</td>\n",
       "      <td>2.09459</td>\n",
       "      <td>140.0</td>\n",
       "      <td>3.795</td>\n",
       "      <td>0.858428</td>\n",
       "      <td>1.104412</td>\n",
       "      <td>0.049869</td>\n",
       "      <td>0.000000</td>\n",
       "      <td>0.097926</td>\n",
       "      <td>0.069720</td>\n",
       "      <td>1.614482</td>\n",
       "    </tr>\n",
       "    <tr>\n",
       "      <th>Argentina</th>\n",
       "      <td>30.0</td>\n",
       "      <td>6.574</td>\n",
       "      <td>1.05351</td>\n",
       "      <td>1.24823</td>\n",
       "      <td>0.78723</td>\n",
       "      <td>0.44974</td>\n",
       "      <td>0.08484</td>\n",
       "      <td>0.11451</td>\n",
       "      <td>2.83600</td>\n",
       "      <td>26.0</td>\n",
       "      <td>...</td>\n",
       "      <td>3.12985</td>\n",
       "      <td>24.0</td>\n",
       "      <td>6.599</td>\n",
       "      <td>1.185295</td>\n",
       "      <td>1.440451</td>\n",
       "      <td>0.695137</td>\n",
       "      <td>0.494519</td>\n",
       "      <td>0.109457</td>\n",
       "      <td>0.059740</td>\n",
       "      <td>2.614005</td>\n",
       "    </tr>\n",
       "  </tbody>\n",
       "</table>\n",
       "<p>5 rows × 27 columns</p>\n",
       "</div>"
      ],
      "text/plain": [
       "             15Happiness Rank  15Happiness Score  15Economy (GDP per Capita)  \\\n",
       "Afghanistan             153.0              3.575                     0.31982   \n",
       "Albania                  95.0              4.959                     0.87867   \n",
       "Algeria                  68.0              5.605                     0.93929   \n",
       "Angola                  137.0              4.033                     0.75778   \n",
       "Argentina                30.0              6.574                     1.05351   \n",
       "\n",
       "             15Family  15Health (Life Expectancy)  15Freedom  \\\n",
       "Afghanistan   0.30285                     0.30335    0.23414   \n",
       "Albania       0.80434                     0.81325    0.35733   \n",
       "Algeria       1.07772                     0.61766    0.28579   \n",
       "Angola        0.86040                     0.16683    0.10384   \n",
       "Argentina     1.24823                     0.78723    0.44974   \n",
       "\n",
       "             15Trust (Government Corruption)  15Generosity  \\\n",
       "Afghanistan                          0.09719       0.36510   \n",
       "Albania                              0.06413       0.14272   \n",
       "Algeria                              0.17383       0.07822   \n",
       "Angola                               0.07122       0.12344   \n",
       "Argentina                            0.08484       0.11451   \n",
       "\n",
       "             15Dystopia Residual  16Happiness Rank         ...           \\\n",
       "Afghanistan              1.95210             154.0         ...            \n",
       "Albania                  1.89894             109.0         ...            \n",
       "Algeria                  2.43209              38.0         ...            \n",
       "Angola                   1.94939             141.0         ...            \n",
       "Argentina                2.83600              26.0         ...            \n",
       "\n",
       "             16Dystopia Residual  17Happiness Rank  17Happiness Score  \\\n",
       "Afghanistan              2.14558             141.0              3.794   \n",
       "Albania                  1.92816             109.0              4.644   \n",
       "Algeria                  3.40904              53.0              5.872   \n",
       "Angola                   2.09459             140.0              3.795   \n",
       "Argentina                3.12985              24.0              6.599   \n",
       "\n",
       "             17Economy (GDP per Capita)  17Family  17Health (Life Expectancy)  \\\n",
       "Afghanistan                    0.401477  0.581543                    0.180747   \n",
       "Albania                        0.996193  0.803685                    0.731160   \n",
       "Algeria                        1.091864  1.146217                    0.617585   \n",
       "Angola                         0.858428  1.104412                    0.049869   \n",
       "Argentina                      1.185295  1.440451                    0.695137   \n",
       "\n",
       "             17Freedom  17Generosity  17Trust (Government Corruption)  \\\n",
       "Afghanistan   0.106180      0.311871                         0.061158   \n",
       "Albania       0.381499      0.201313                         0.039864   \n",
       "Algeria       0.233336      0.069437                         0.146096   \n",
       "Angola        0.000000      0.097926                         0.069720   \n",
       "Argentina     0.494519      0.109457                         0.059740   \n",
       "\n",
       "             17Dystopia Residual  \n",
       "Afghanistan             2.150801  \n",
       "Albania                 1.490442  \n",
       "Algeria                 2.567604  \n",
       "Angola                  1.614482  \n",
       "Argentina               2.614005  \n",
       "\n",
       "[5 rows x 27 columns]"
      ]
     },
     "execution_count": 76,
     "metadata": {},
     "output_type": "execute_result"
    }
   ],
   "source": [
    "whrt.head()"
   ]
  },
  {
   "cell_type": "code",
   "execution_count": 64,
   "metadata": {},
   "outputs": [
    {
     "data": {
      "text/plain": [
       "Index(['15Region', '15Happiness Rank', '15Happiness Score',\n",
       "       '15Economy (GDP per Capita)', '15Family', '15Health (Life Expectancy)',\n",
       "       '15Freedom', '15Trust (Government Corruption)', '15Generosity',\n",
       "       '15Dystopia Residual', '16Region', '16Happiness Rank',\n",
       "       '16Happiness Score', '16Economy (GDP per Capita)', '16Family',\n",
       "       '16Health (Life Expectancy)', '16Freedom',\n",
       "       '16Trust (Government Corruption)', '16Generosity',\n",
       "       '16Dystopia Residual', '17Happiness.Rank', '17Happiness.Score',\n",
       "       '17Economy..GDP.per.Capita.', '17Family', '17Health..Life.Expectancy.',\n",
       "       '17Freedom', '17Generosity', '17Trust..Government.Corruption.',\n",
       "       '17Dystopia.Residual'],\n",
       "      dtype='object')"
      ]
     },
     "execution_count": 64,
     "metadata": {},
     "output_type": "execute_result"
    }
   ],
   "source": [
    "whrt.columns"
   ]
  },
  {
   "cell_type": "code",
   "execution_count": 67,
   "metadata": {},
   "outputs": [],
   "source": [
    "whrt.columns = ['15Region', '15Happiness Rank', '15Happiness Score',\n",
    "       '15Economy (GDP per Capita)', '15Family', '15Health (Life Expectancy)',\n",
    "       '15Freedom', '15Trust (Government Corruption)', '15Generosity',\n",
    "       '15Dystopia Residual', '16Region', '16Happiness Rank',\n",
    "       '16Happiness Score', '16Economy (GDP per Capita)', '16Family',\n",
    "       '16Health (Life Expectancy)', '16Freedom',\n",
    "       '16Trust (Government Corruption)', '16Generosity',\n",
    "       '16Dystopia Residual', '17Happiness Rank', '17Happiness Score',\n",
    "       '17Economy (GDP per Capita)', '17Family', '17Health (Life Expectancy)',\n",
    "       '17Freedom', '17Generosity', '17Trust (Government Corruption)',\n",
    "       '17Dystopia Residual']"
   ]
  },
  {
   "cell_type": "code",
   "execution_count": 68,
   "metadata": {},
   "outputs": [
    {
     "data": {
      "text/plain": [
       "Index(['15Region', '15Happiness Rank', '15Happiness Score',\n",
       "       '15Economy (GDP per Capita)', '15Family', '15Health (Life Expectancy)',\n",
       "       '15Freedom', '15Trust (Government Corruption)', '15Generosity',\n",
       "       '15Dystopia Residual', '16Region', '16Happiness Rank',\n",
       "       '16Happiness Score', '16Economy (GDP per Capita)', '16Family',\n",
       "       '16Health (Life Expectancy)', '16Freedom',\n",
       "       '16Trust (Government Corruption)', '16Generosity',\n",
       "       '16Dystopia Residual', '17Happiness Rank', '17Happiness Score',\n",
       "       '17Economy (GDP per Capita)', '17Family', '17Health (Life Expectancy)',\n",
       "       '17Freedom', '17Generosity', '17Trust (Government Corruption)',\n",
       "       '17Dystopia Residual'],\n",
       "      dtype='object')"
      ]
     },
     "execution_count": 68,
     "metadata": {},
     "output_type": "execute_result"
    }
   ],
   "source": [
    "whrt.columns"
   ]
  },
  {
   "cell_type": "code",
   "execution_count": 70,
   "metadata": {},
   "outputs": [],
   "source": [
    "whrt.drop([\"15Region\", \"16Region\"], axis=1, inplace=True)"
   ]
  },
  {
   "cell_type": "code",
   "execution_count": 72,
   "metadata": {},
   "outputs": [
    {
     "data": {
      "text/plain": [
       "Index(['15Happiness Rank', '15Happiness Score', '15Economy (GDP per Capita)',\n",
       "       '15Family', '15Health (Life Expectancy)', '15Freedom',\n",
       "       '15Trust (Government Corruption)', '15Generosity',\n",
       "       '15Dystopia Residual', '16Happiness Rank', '16Happiness Score',\n",
       "       '16Economy (GDP per Capita)', '16Family', '16Health (Life Expectancy)',\n",
       "       '16Freedom', '16Trust (Government Corruption)', '16Generosity',\n",
       "       '16Dystopia Residual', '17Happiness Rank', '17Happiness Score',\n",
       "       '17Economy (GDP per Capita)', '17Family', '17Health (Life Expectancy)',\n",
       "       '17Freedom', '17Generosity', '17Trust (Government Corruption)',\n",
       "       '17Dystopia Residual'],\n",
       "      dtype='object')"
      ]
     },
     "execution_count": 72,
     "metadata": {},
     "output_type": "execute_result"
    }
   ],
   "source": [
    "whrt.columns"
   ]
  },
  {
   "cell_type": "code",
   "execution_count": 75,
   "metadata": {},
   "outputs": [
    {
     "data": {
      "text/plain": [
       "(166, 27)"
      ]
     },
     "execution_count": 75,
     "metadata": {},
     "output_type": "execute_result"
    }
   ],
   "source": [
    "whrt.shape"
   ]
  }
 ],
 "metadata": {
  "kernelspec": {
   "display_name": "Python 3",
   "language": "python",
   "name": "python3"
  },
  "language_info": {
   "codemirror_mode": {
    "name": "ipython",
    "version": 3
   },
   "file_extension": ".py",
   "mimetype": "text/x-python",
   "name": "python",
   "nbconvert_exporter": "python",
   "pygments_lexer": "ipython3",
   "version": "3.6.4"
  },
  "varInspector": {
   "cols": {
    "lenName": 16,
    "lenType": 16,
    "lenVar": 40
   },
   "kernels_config": {
    "python": {
     "delete_cmd_postfix": "",
     "delete_cmd_prefix": "del ",
     "library": "var_list.py",
     "varRefreshCmd": "print(var_dic_list())"
    },
    "r": {
     "delete_cmd_postfix": ") ",
     "delete_cmd_prefix": "rm(",
     "library": "var_list.r",
     "varRefreshCmd": "cat(var_dic_list()) "
    }
   },
   "types_to_exclude": [
    "module",
    "function",
    "builtin_function_or_method",
    "instance",
    "_Feature"
   ],
   "window_display": false
  }
 },
 "nbformat": 4,
 "nbformat_minor": 2
}
